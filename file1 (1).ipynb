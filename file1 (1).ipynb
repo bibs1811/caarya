{
 "cells": [
  {
   "cell_type": "code",
   "metadata": {
    "ExecuteTime": {
     "end_time": "2024-06-21T07:58:14.366637Z",
     "start_time": "2024-06-21T07:58:14.359346Z"
    }
   },
   "source": [
    "# Check if the code is running in Google Colab\n",
    "try:\n",
    "    from google.colab import files\n",
    "\n",
    "    IN_COLAB = True\n",
    "except ImportError:\n",
    "    IN_COLAB = False\n",
    "\n",
    "if IN_COLAB:\n",
    "    # If in Google Colab, use file upload functionality\n",
    "    uploaded = files.upload()\n",
    "    db_filename = list(uploaded.keys())[0]\n",
    "else:\n",
    "    # If not in Google Colab, load the file directly from the local directory\n",
    "     db_filename = 'C:/Users/sahoo/Downloads/archive/valorant.sqlite'"
   ],
   "outputs": [],
   "execution_count": 3
  },
  {
   "cell_type": "code",
   "metadata": {
    "id": "ECq4zUJTugvg",
    "ExecuteTime": {
     "end_time": "2024-06-21T07:58:29.618243Z",
     "start_time": "2024-06-21T07:58:29.612406Z"
    }
   },
   "source": [
    "import sqlite3\n",
    "import pandas as pd"
   ],
   "outputs": [],
   "execution_count": 5
  },
  {
   "cell_type": "code",
   "metadata": {
    "ExecuteTime": {
     "end_time": "2024-06-21T07:58:32.664120Z",
     "start_time": "2024-06-21T07:58:32.645713Z"
    }
   },
   "source": [
    "conn = sqlite3.connect(db_filename)"
   ],
   "outputs": [],
   "execution_count": 6
  },
  {
   "cell_type": "code",
   "metadata": {
    "colab": {
     "base_uri": "https://localhost:8080/"
    },
    "id": "KyMGMO-aum9p",
    "outputId": "454af55d-2b13-449b-a67a-b43562446bac",
    "ExecuteTime": {
     "end_time": "2024-06-21T07:58:35.851419Z",
     "start_time": "2024-06-21T07:58:35.833603Z"
    }
   },
   "source": [
    "query = \"SELECT name FROM sqlite_master WHERE type='table';\"\n",
    "tables = pd.read_sql(query, conn)\n",
    "print(\"Tables in the database:\")\n",
    "print(tables)"
   ],
   "outputs": [
    {
     "name": "stdout",
     "output_type": "stream",
     "text": [
      "Tables in the database:\n",
      "              name\n",
      "0          Matches\n",
      "1            Games\n",
      "2      Game_Rounds\n",
      "3  Game_Scoreboard\n"
     ]
    }
   ],
   "execution_count": 7
  },
  {
   "cell_type": "code",
   "metadata": {
    "colab": {
     "base_uri": "https://localhost:8080/"
    },
    "id": "srgj1ySBuo0m",
    "outputId": "a0225c7e-c359-4d96-8150-68cfac6ebcfe",
    "ExecuteTime": {
     "end_time": "2024-06-21T07:58:43.428100Z",
     "start_time": "2024-06-21T07:58:38.273522Z"
    }
   },
   "source": [
    "for table_name in tables['name']:\n",
    "    df = pd.read_sql(f'SELECT * FROM {table_name}', conn)\n",
    "\n",
    "    if IN_COLAB:  # if in colab save in root directory\n",
    "        csv_filename = f\"{table_name}.csv\"\n",
    "    else:  # if not in colab save in subdirectory /data/csv\n",
    "        csv_filename = f\"C:/Users/sahoo/Downloads/archive/{table_name}.csv\"\n",
    "\n",
    "    df.to_csv(csv_filename, index=False)\n",
    "\n",
    "    print(f\"Table {table_name} has been saved as {csv_filename}\")"
   ],
   "outputs": [
    {
     "name": "stdout",
     "output_type": "stream",
     "text": [
      "Table Matches has been saved as C:/Users/sahoo/Downloads/archive/Matches.csv\n",
      "Table Games has been saved as C:/Users/sahoo/Downloads/archive/Games.csv\n",
      "Table Game_Rounds has been saved as C:/Users/sahoo/Downloads/archive/Game_Rounds.csv\n",
      "Table Game_Scoreboard has been saved as C:/Users/sahoo/Downloads/archive/Game_Scoreboard.csv\n"
     ]
    }
   ],
   "execution_count": 8
  },
  {
   "cell_type": "code",
   "metadata": {
    "colab": {
     "base_uri": "https://localhost:8080/"
    },
    "id": "DPn90fJ4uwzj",
    "outputId": "822b5163-03f8-4d8a-c14a-78b86a6f97c6",
    "ExecuteTime": {
     "end_time": "2024-06-21T07:58:43.443830Z",
     "start_time": "2024-06-21T07:58:43.430593Z"
    }
   },
   "source": [
    "# Check if the code is running in Google Colab\n",
    "# and set the directory variable to its corresponding value\n",
    "if IN_COLAB:\n",
    "    directory = \".\"\n",
    "else:\n",
    "    directory = \"C:/Users/sahoo/Downloads/archive\""
   ],
   "outputs": [],
   "execution_count": 9
  },
  {
   "cell_type": "code",
   "metadata": {
    "colab": {
     "base_uri": "https://localhost:8080/",
     "height": 17
    },
    "id": "z0ybEBXIzT2-",
    "outputId": "8ecb45fe-9581-4448-fc6a-6a32a7fe6343",
    "ExecuteTime": {
     "end_time": "2024-06-21T07:58:47.911341Z",
     "start_time": "2024-06-21T07:58:47.903146Z"
    }
   },
   "source": [
    "import os\n",
    "\n",
    "csv_files = [f for f in os.listdir(directory) if f.endswith('.csv')]\n",
    "print(\"Generated CSV files:\")\n",
    "print(csv_files)"
   ],
   "outputs": [
    {
     "name": "stdout",
     "output_type": "stream",
     "text": [
      "Generated CSV files:\n",
      "['Games.csv', 'Games_Cleaned.csv', 'Games_Normalized.csv', 'Game_Rounds.csv', 'Game_Rounds_Cleaned.csv', 'Game_Scoreboard.csv', 'Game_Scoreboard_Cleaned.csv', 'Game_Scoreboard_Normalized.csv', 'Matches.csv', 'Matches_Cleaned.csv', 'Matches_Normalized.csv', 'Role_Scores_By_Agent.csv']\n"
     ]
    }
   ],
   "execution_count": 10
  },
  {
   "cell_type": "code",
   "metadata": {
    "colab": {
     "base_uri": "https://localhost:8080/"
    },
    "id": "2DPUN3J703_U",
    "outputId": "7ac0e47c-dc96-471f-a2f3-bfe018ec1f7e",
    "ExecuteTime": {
     "end_time": "2024-06-21T07:58:50.557309Z",
     "start_time": "2024-06-21T07:58:50.540239Z"
    }
   },
   "source": [
    "if IN_COLAB:\n",
    "    from google.colab import files\n",
    "\n",
    "    # Download each CSV file\n",
    "    for file in csv_files:\n",
    "        files.download(file)"
   ],
   "outputs": [],
   "execution_count": 11
  },
  {
   "cell_type": "code",
   "metadata": {
    "colab": {
     "base_uri": "https://localhost:8080/",
     "height": 1000
    },
    "id": "fxkiSzyz2MSG",
    "outputId": "beadfcdf-03db-4c73-e86f-8790b8968f93",
    "ExecuteTime": {
     "end_time": "2024-06-21T07:58:56.422273Z",
     "start_time": "2024-06-21T07:58:55.473121Z"
    }
   },
   "source": [
    "import pandas as pd\n",
    "\n",
    "file_names = ['Game_Scoreboard.csv', 'Game_Rounds.csv', 'Matches.csv', 'Games.csv']\n",
    "\n",
    "game_scoreboard_df = pd.read_csv(f\"{directory}/Game_Scoreboard.csv\")\n",
    "game_rounds_df = pd.read_csv(f\"{directory}/Game_Rounds.csv\")\n",
    "matches_df = pd.read_csv(f\"{directory}/Matches.csv\")\n",
    "games_df = pd.read_csv(f\"{directory}/Games.csv\")\n",
    "\n",
    "print(\"Game_Scoreboard DataFrame:\")\n",
    "print(game_scoreboard_df.head())\n",
    "\n",
    "print(\"\\nGame_Rounds DataFrame:\")\n",
    "print(game_rounds_df.head())\n",
    "\n",
    "print(\"\\nMatches DataFrame:\")\n",
    "print(matches_df.head())\n",
    "\n",
    "print(\"\\nGames DataFrame:\")\n",
    "print(games_df.head())"
   ],
   "outputs": [
    {
     "name": "stdout",
     "output_type": "stream",
     "text": [
      "Game_Scoreboard DataFrame:\n",
      "   GameID  PlayerID PlayerName TeamAbbreviation    Agent    ACS  Kills  \\\n",
      "0   60894    8419.0     Reduxx             Boos     jett  313.0   24.0   \n",
      "1   60894     466.0     ChurmZ             Boos  chamber  227.0   16.0   \n",
      "2   60894    3712.0   diaamond             Boos     sova  226.0   17.0   \n",
      "3   60894    5099.0     Boltzy             Boos    viper  218.0   17.0   \n",
      "4   60894    3983.0     Virtyy             Boos     skye   80.0    5.0   \n",
      "\n",
      "   Deaths  Assists  PlusMinus  ...  Num_4Ks  Num_5Ks  OnevOne  OnevTwo  \\\n",
      "0    10.0      3.0       14.0  ...      2.0      0.0      1.0      0.0   \n",
      "1    10.0      7.0        6.0  ...      0.0      0.0      0.0      0.0   \n",
      "2     9.0      8.0        8.0  ...      0.0      0.0      1.0      0.0   \n",
      "3    12.0      2.0        5.0  ...      0.0      0.0      1.0      0.0   \n",
      "4    13.0      3.0       -8.0  ...      0.0      0.0      0.0      0.0   \n",
      "\n",
      "   OnevThree  OnevFour  OnevFive  Econ  Plants  Defuses  \n",
      "0        0.0       0.0       0.0  74.0     0.0      0.0  \n",
      "1        0.0       0.0       0.0  67.0     2.0      0.0  \n",
      "2        0.0       0.0       0.0  58.0     3.0      0.0  \n",
      "3        0.0       0.0       0.0  48.0     0.0      0.0  \n",
      "4        0.0       0.0       0.0  21.0     0.0      0.0  \n",
      "\n",
      "[5 rows x 28 columns]\n",
      "\n",
      "Game_Rounds DataFrame:\n",
      "    GameID  Team1ID  Team2ID  \\\n",
      "0  60894.0     6903     6020   \n",
      "1  60895.0     6903     6020   \n",
      "2  60896.0     6903     6020   \n",
      "3  60924.0     7046     7047   \n",
      "4  60925.0     7046     7047   \n",
      "\n",
      "                                        RoundHistory  \n",
      "0  {1: {'RoundWinner': 'BOOS', 'ScoreAfterRound':...  \n",
      "1  {1: {'RoundWinner': 'PHO ', 'ScoreAfterRound':...  \n",
      "2  {1: {'RoundWinner': 'PHO ', 'ScoreAfterRound':...  \n",
      "3  {1: {'RoundWinner': 'BJOR', 'ScoreAfterRound':...  \n",
      "4  {1: {'RoundWinner': 'BJOR', 'ScoreAfterRound':...  \n",
      "\n",
      "Matches DataFrame:\n",
      "   MatchID                 Date       Patch  EventID  \\\n",
      "0    62393  2022-01-08 15:30:00  Patch 3.12      826   \n",
      "1    62403  2022-01-08 15:30:00  Patch 3.12      826   \n",
      "2    62391  2022-01-08 12:30:00  Patch 3.12      826   \n",
      "3    62396  2022-01-08 12:30:00  Patch 3.12      826   \n",
      "4    62401  2022-01-08 12:30:00  Patch 3.12      826   \n",
      "\n",
      "                                           EventName  \\\n",
      "0  Nerd Street Gamers Winter Championship - Regio...   \n",
      "1  Nerd Street Gamers Winter Championship - Regio...   \n",
      "2  Nerd Street Gamers Winter Championship - Regio...   \n",
      "3  Nerd Street Gamers Winter Championship - Regio...   \n",
      "4  Nerd Street Gamers Winter Championship - Regio...   \n",
      "\n",
      "                  EventStage  Team1ID  Team2ID                Team1  \\\n",
      "0   Group Stage: Decider (A)     6903     6020  Booster Seat Gaming   \n",
      "1   Group Stage: Decider (C)     7046     7047       Bjor's Kittens   \n",
      "2  Group Stage: Winner's (A)     6461     6903                Akrew   \n",
      "3  Group Stage: Winner's (B)     6164     7043             Radiance   \n",
      "4  Group Stage: Winner's (C)     7045     7046     Salt and Vinegar   \n",
      "\n",
      "                 Team2  Team1_MapScore  Team2_MapScore  \n",
      "0             Pho Real               2               1  \n",
      "1             Mugiwara               2               0  \n",
      "2  Booster Seat Gaming               2               1  \n",
      "3          sameROFLMAO               2               0  \n",
      "4       Bjor's Kittens               2               0  \n",
      "\n",
      "Games DataFrame:\n",
      "   GameID  MatchID     Map  Team1ID  Team2ID                Team1     Team2  \\\n",
      "0   60894    62393  Breeze     6903     6020  Booster Seat Gaming  Pho Real   \n",
      "1   60895    62393    Bind     6903     6020  Booster Seat Gaming  Pho Real   \n",
      "2   60896    62393   Haven     6903     6020  Booster Seat Gaming  Pho Real   \n",
      "3   60924    62403  Icebox     7046     7047       Bjor's Kittens  Mugiwara   \n",
      "4   60925    62403   Haven     7046     7047       Bjor's Kittens  Mugiwara   \n",
      "\n",
      "                Winner  Team1_TotalRounds  Team2_TotalRounds  ...  \\\n",
      "0  Booster Seat Gaming                 13                  7  ...   \n",
      "1             Pho Real                  2                 13  ...   \n",
      "2  Booster Seat Gaming                 13                  8  ...   \n",
      "3       Bjor's Kittens                 13                  6  ...   \n",
      "4       Bjor's Kittens                 13                  9  ...   \n",
      "\n",
      "  Team1_FullBuyWon Team2_PistolWon  Team2_Eco  Team2_EcoWon  Team2_SemiEco  \\\n",
      "0              8.0             0.0        4.0           0.0            2.0   \n",
      "1              1.0             2.0        2.0           2.0            0.0   \n",
      "2              9.0             1.0        2.0           1.0            2.0   \n",
      "3              8.0             0.0        4.0           0.0            1.0   \n",
      "4             11.0             1.0        3.0           2.0            3.0   \n",
      "\n",
      "   Team2_SemiEcoWon  Team2_SemiBuy  Team2_SemiBuyWon  Team2_FullBuy  \\\n",
      "0               0.0            4.0               1.0           10.0   \n",
      "1               0.0            4.0               3.0            9.0   \n",
      "2               0.0            6.0               2.0           11.0   \n",
      "3               0.0            2.0               1.0           12.0   \n",
      "4               0.0            4.0               3.0           12.0   \n",
      "\n",
      "   Team2_FullBuyWon  \n",
      "0               6.0  \n",
      "1               8.0  \n",
      "2               5.0  \n",
      "3               5.0  \n",
      "4               4.0  \n",
      "\n",
      "[5 rows x 36 columns]\n"
     ]
    }
   ],
   "execution_count": 12
  },
  {
   "cell_type": "code",
   "metadata": {
    "colab": {
     "base_uri": "https://localhost:8080/"
    },
    "id": "5yzqPZRz4kvW",
    "outputId": "40da4692-eb30-4122-e1ea-9ea3b9c1b318",
    "ExecuteTime": {
     "end_time": "2024-06-21T07:59:02.999115Z",
     "start_time": "2024-06-21T07:58:59.301194Z"
    }
   },
   "source": [
    "def clean_dataframe(df, threshold=0.2):\n",
    "    threshold_value = int(df.shape[1] * threshold)\n",
    "    df = df[df.isnull().sum(axis=1) <= threshold_value]\n",
    "    for column in df.columns:\n",
    "        if pd.api.types.is_numeric_dtype(df[column]):\n",
    "            df.loc[:, column] = df.loc[:, column].fillna(df[column].mean())\n",
    "        else:\n",
    "            df.loc[:, column] = df.loc[:, column].fillna('Unknown')\n",
    "    df = df.drop_duplicates()\n",
    "    return df\n",
    "\n",
    "game_scoreboard_cleaned = clean_dataframe(game_scoreboard_df, threshold=0.2)\n",
    "game_rounds_cleaned = clean_dataframe(game_rounds_df, threshold=0.2)\n",
    "matches_cleaned = clean_dataframe(matches_df, threshold=0.2)\n",
    "games_cleaned = clean_dataframe(games_df, threshold=0.2)\n",
    "\n",
    "# show number of rows in games_scoreboard_df\n",
    "print(f\"Number of rows in Game_Scoreboard DataFrame: {game_scoreboard_df.shape[0]}\")\n",
    "print(f\"Number of rows in Game_Rounds DataFrame: {game_rounds_df.shape[0]}\")\n",
    "print(f\"Number of rows in Matches DataFrame: {matches_df.shape[0]}\")\n",
    "print(f\"Number of rows in Games DataFrame: {games_df.shape[0]}\")\n",
    "\n",
    "print()\n",
    "\n",
    "print(f\"Number of rows in cleaned Game_Scoreboard DataFrame: {game_scoreboard_cleaned.shape[0]}\")\n",
    "print(f\"Number of rows in cleaned Game_Rounds DataFrame: {game_rounds_cleaned.shape[0]}\")\n",
    "print(f\"Number of rows in cleaned Matches DataFrame: {matches_cleaned.shape[0]}\")\n",
    "print(f\"Number of rows in cleaned Games DataFrame: {games_cleaned.shape[0]}\")\n",
    "\n",
    "print()\n",
    "\n",
    "# print percentage of dropped rows in each data frame\n",
    "print(f\"Percentage of dropped rows in Game_Scoreboard DataFrame: {(1 - game_scoreboard_cleaned.shape[0] / game_scoreboard_df.shape[0]) * 100:.2f}%\")\n",
    "print(f\"Percentage of dropped rows in Game_Rounds DataFrame: {(1 - game_rounds_cleaned.shape[0] / game_rounds_df.shape[0]) * 100:.2f}%\")\n",
    "print(f\"Percentage of dropped rows in Matches DataFrame: {(1 - matches_cleaned.shape[0] / matches_df.shape[0]) * 100:.2f}%\")\n",
    "print(f\"Percentage of dropped rows in Games DataFrame: {(1 - games_cleaned.shape[0] / games_df.shape[0]) * 100:.2f}%\")\n",
    "\n",
    "game_scoreboard_cleaned.to_csv(f\"{directory}/Game_Scoreboard_Cleaned.csv\", index=False)\n",
    "game_rounds_cleaned.to_csv(f\"{directory}/Game_Rounds_Cleaned.csv\", index=False)\n",
    "matches_cleaned.to_csv(f\"{directory}/Matches_Cleaned.csv\", index=False)\n",
    "games_cleaned.to_csv(f\"{directory}/Games_Cleaned.csv\", index=False)\n"
   ],
   "outputs": [
    {
     "name": "stderr",
     "output_type": "stream",
     "text": [
      "C:\\Users\\sahoo\\AppData\\Local\\Temp\\ipykernel_14752\\684217951.py:6: SettingWithCopyWarning: \n",
      "A value is trying to be set on a copy of a slice from a DataFrame.\n",
      "Try using .loc[row_indexer,col_indexer] = value instead\n",
      "\n",
      "See the caveats in the documentation: https://pandas.pydata.org/pandas-docs/stable/user_guide/indexing.html#returning-a-view-versus-a-copy\n",
      "  df.loc[:, column] = df.loc[:, column].fillna(df[column].mean())\n",
      "C:\\Users\\sahoo\\AppData\\Local\\Temp\\ipykernel_14752\\684217951.py:8: SettingWithCopyWarning: \n",
      "A value is trying to be set on a copy of a slice from a DataFrame.\n",
      "Try using .loc[row_indexer,col_indexer] = value instead\n",
      "\n",
      "See the caveats in the documentation: https://pandas.pydata.org/pandas-docs/stable/user_guide/indexing.html#returning-a-view-versus-a-copy\n",
      "  df.loc[:, column] = df.loc[:, column].fillna('Unknown')\n"
     ]
    },
    {
     "name": "stdout",
     "output_type": "stream",
     "text": [
      "Number of rows in Game_Scoreboard DataFrame: 157939\n",
      "Number of rows in Game_Rounds DataFrame: 15531\n",
      "Number of rows in Matches DataFrame: 7818\n",
      "Number of rows in Games DataFrame: 15888\n",
      "\n",
      "Number of rows in cleaned Game_Scoreboard DataFrame: 147744\n",
      "Number of rows in cleaned Game_Rounds DataFrame: 14854\n",
      "Number of rows in cleaned Matches DataFrame: 7818\n",
      "Number of rows in cleaned Games DataFrame: 14854\n",
      "\n",
      "Percentage of dropped rows in Game_Scoreboard DataFrame: 6.46%\n",
      "Percentage of dropped rows in Game_Rounds DataFrame: 4.36%\n",
      "Percentage of dropped rows in Matches DataFrame: 0.00%\n",
      "Percentage of dropped rows in Games DataFrame: 6.51%\n"
     ]
    }
   ],
   "execution_count": 13
  },
  {
   "metadata": {
    "ExecuteTime": {
     "end_time": "2024-06-21T07:59:03.030544Z",
     "start_time": "2024-06-21T07:59:03.001125Z"
    }
   },
   "cell_type": "code",
   "source": [
    "import pandas as pd\n",
    "\n",
    "game_scoreboard_cleaned_df = pd.DataFrame(game_scoreboard_cleaned)\n",
    "game_rounds_cleaned_df = pd.DataFrame(game_rounds_cleaned)\n",
    "matches_cleaned_df = pd.DataFrame(matches_cleaned)\n",
    "games_cleaned_df = pd.DataFrame(games_cleaned)\n",
    "\n",
    "\n",
    "print(\"Cleaned Game_Scoreboard DataFrame:\")\n",
    "print(game_scoreboard_cleaned_df.head())\n",
    "\n",
    "print(\"\\nCleaned Game_Rounds DataFrame:\")\n",
    "print(game_rounds_cleaned_df.head())\n",
    "\n",
    "print(\"\\nCleaned Matches DataFrame:\")\n",
    "print(matches_cleaned_df.head())\n",
    "\n",
    "print(\"\\nCleaned Games DataFrame:\")\n",
    "print(games_cleaned_df.head())"
   ],
   "outputs": [
    {
     "name": "stdout",
     "output_type": "stream",
     "text": [
      "Cleaned Game_Scoreboard DataFrame:\n",
      "   GameID  PlayerID PlayerName TeamAbbreviation    Agent    ACS  Kills  \\\n",
      "0   60894    8419.0     Reduxx             Boos     jett  313.0   24.0   \n",
      "1   60894     466.0     ChurmZ             Boos  chamber  227.0   16.0   \n",
      "2   60894    3712.0   diaamond             Boos     sova  226.0   17.0   \n",
      "3   60894    5099.0     Boltzy             Boos    viper  218.0   17.0   \n",
      "4   60894    3983.0     Virtyy             Boos     skye   80.0    5.0   \n",
      "\n",
      "   Deaths  Assists  PlusMinus  ...  Num_4Ks  Num_5Ks  OnevOne  OnevTwo  \\\n",
      "0    10.0      3.0       14.0  ...      2.0      0.0      1.0      0.0   \n",
      "1    10.0      7.0        6.0  ...      0.0      0.0      0.0      0.0   \n",
      "2     9.0      8.0        8.0  ...      0.0      0.0      1.0      0.0   \n",
      "3    12.0      2.0        5.0  ...      0.0      0.0      1.0      0.0   \n",
      "4    13.0      3.0       -8.0  ...      0.0      0.0      0.0      0.0   \n",
      "\n",
      "   OnevThree  OnevFour  OnevFive  Econ  Plants  Defuses  \n",
      "0        0.0       0.0       0.0  74.0     0.0      0.0  \n",
      "1        0.0       0.0       0.0  67.0     2.0      0.0  \n",
      "2        0.0       0.0       0.0  58.0     3.0      0.0  \n",
      "3        0.0       0.0       0.0  48.0     0.0      0.0  \n",
      "4        0.0       0.0       0.0  21.0     0.0      0.0  \n",
      "\n",
      "[5 rows x 28 columns]\n",
      "\n",
      "Cleaned Game_Rounds DataFrame:\n",
      "    GameID  Team1ID  Team2ID  \\\n",
      "0  60894.0     6903     6020   \n",
      "1  60895.0     6903     6020   \n",
      "2  60896.0     6903     6020   \n",
      "3  60924.0     7046     7047   \n",
      "4  60925.0     7046     7047   \n",
      "\n",
      "                                        RoundHistory  \n",
      "0  {1: {'RoundWinner': 'BOOS', 'ScoreAfterRound':...  \n",
      "1  {1: {'RoundWinner': 'PHO ', 'ScoreAfterRound':...  \n",
      "2  {1: {'RoundWinner': 'PHO ', 'ScoreAfterRound':...  \n",
      "3  {1: {'RoundWinner': 'BJOR', 'ScoreAfterRound':...  \n",
      "4  {1: {'RoundWinner': 'BJOR', 'ScoreAfterRound':...  \n",
      "\n",
      "Cleaned Matches DataFrame:\n",
      "   MatchID                 Date       Patch  EventID  \\\n",
      "0    62393  2022-01-08 15:30:00  Patch 3.12      826   \n",
      "1    62403  2022-01-08 15:30:00  Patch 3.12      826   \n",
      "2    62391  2022-01-08 12:30:00  Patch 3.12      826   \n",
      "3    62396  2022-01-08 12:30:00  Patch 3.12      826   \n",
      "4    62401  2022-01-08 12:30:00  Patch 3.12      826   \n",
      "\n",
      "                                           EventName  \\\n",
      "0  Nerd Street Gamers Winter Championship - Regio...   \n",
      "1  Nerd Street Gamers Winter Championship - Regio...   \n",
      "2  Nerd Street Gamers Winter Championship - Regio...   \n",
      "3  Nerd Street Gamers Winter Championship - Regio...   \n",
      "4  Nerd Street Gamers Winter Championship - Regio...   \n",
      "\n",
      "                  EventStage  Team1ID  Team2ID                Team1  \\\n",
      "0   Group Stage: Decider (A)     6903     6020  Booster Seat Gaming   \n",
      "1   Group Stage: Decider (C)     7046     7047       Bjor's Kittens   \n",
      "2  Group Stage: Winner's (A)     6461     6903                Akrew   \n",
      "3  Group Stage: Winner's (B)     6164     7043             Radiance   \n",
      "4  Group Stage: Winner's (C)     7045     7046     Salt and Vinegar   \n",
      "\n",
      "                 Team2  Team1_MapScore  Team2_MapScore  \n",
      "0             Pho Real               2               1  \n",
      "1             Mugiwara               2               0  \n",
      "2  Booster Seat Gaming               2               1  \n",
      "3          sameROFLMAO               2               0  \n",
      "4       Bjor's Kittens               2               0  \n",
      "\n",
      "Cleaned Games DataFrame:\n",
      "   GameID  MatchID     Map  Team1ID  Team2ID                Team1     Team2  \\\n",
      "0   60894    62393  Breeze     6903     6020  Booster Seat Gaming  Pho Real   \n",
      "1   60895    62393    Bind     6903     6020  Booster Seat Gaming  Pho Real   \n",
      "2   60896    62393   Haven     6903     6020  Booster Seat Gaming  Pho Real   \n",
      "3   60924    62403  Icebox     7046     7047       Bjor's Kittens  Mugiwara   \n",
      "4   60925    62403   Haven     7046     7047       Bjor's Kittens  Mugiwara   \n",
      "\n",
      "                Winner  Team1_TotalRounds  Team2_TotalRounds  ...  \\\n",
      "0  Booster Seat Gaming                 13                  7  ...   \n",
      "1             Pho Real                  2                 13  ...   \n",
      "2  Booster Seat Gaming                 13                  8  ...   \n",
      "3       Bjor's Kittens                 13                  6  ...   \n",
      "4       Bjor's Kittens                 13                  9  ...   \n",
      "\n",
      "  Team1_FullBuyWon Team2_PistolWon  Team2_Eco  Team2_EcoWon  Team2_SemiEco  \\\n",
      "0              8.0             0.0        4.0           0.0            2.0   \n",
      "1              1.0             2.0        2.0           2.0            0.0   \n",
      "2              9.0             1.0        2.0           1.0            2.0   \n",
      "3              8.0             0.0        4.0           0.0            1.0   \n",
      "4             11.0             1.0        3.0           2.0            3.0   \n",
      "\n",
      "   Team2_SemiEcoWon  Team2_SemiBuy  Team2_SemiBuyWon  Team2_FullBuy  \\\n",
      "0               0.0            4.0               1.0           10.0   \n",
      "1               0.0            4.0               3.0            9.0   \n",
      "2               0.0            6.0               2.0           11.0   \n",
      "3               0.0            2.0               1.0           12.0   \n",
      "4               0.0            4.0               3.0           12.0   \n",
      "\n",
      "   Team2_FullBuyWon  \n",
      "0               6.0  \n",
      "1               8.0  \n",
      "2               5.0  \n",
      "3               5.0  \n",
      "4               4.0  \n",
      "\n",
      "[5 rows x 36 columns]\n"
     ]
    }
   ],
   "execution_count": 14
  },
  {
   "metadata": {},
   "cell_type": "markdown",
   "source": "New Code Below"
  },
  {
   "metadata": {
    "ExecuteTime": {
     "end_time": "2024-06-21T07:59:10.938126Z",
     "start_time": "2024-06-21T07:59:05.934855Z"
    }
   },
   "cell_type": "code",
   "source": [
    "import pandas as pd\n",
    "from sklearn.preprocessing import MinMaxScaler\n",
    "\n",
    "# Function to normalize the data\n",
    "def normalize_dataframe(df):\n",
    "    scaler = MinMaxScaler()\n",
    "    numeric_columns = df.select_dtypes(include=['float64', 'int64']).columns\n",
    "    df[numeric_columns] = scaler.fit_transform(df[numeric_columns])\n",
    "    return df\n",
    "\n",
    "# Normalize the data\n",
    "game_rounds_normalized = normalize_dataframe(game_rounds_cleaned_df)\n",
    "games_normalized = normalize_dataframe(games_cleaned_df)\n",
    "matches_normalized = normalize_dataframe(matches_cleaned_df)\n",
    "game_scoreboard_normalized = normalize_dataframe(game_scoreboard_cleaned_df)\n",
    "\n",
    "# Save the normalized data to new CSV files\n",
    "game_rounds_normalized.to_csv(f\"{directory}/Game_Rounds_Normalized.cs\", index=False)\n",
    "games_normalized.to_csv(f\"{directory}/Games_Normalized.csv\", index=False)\n",
    "matches_normalized.to_csv(f\"{directory}/Matches_Normalized.csv\", index=False)\n",
    "game_scoreboard_normalized.to_csv(f\"{directory}/Game_Scoreboard_Normalized.csv\", index=False)\n",
    "\n",
    "# Output to confirm completion\n",
    "print(f\"Game_Rounds_Normalized shape: {game_rounds_normalized.shape}\")\n",
    "print(f\"Games_Normalized shape: {games_normalized.shape}\")\n",
    "print(f\"Matches_Normalized shape: {matches_normalized.shape}\")\n",
    "print(f\"Game_Scoreboard_Normalized shape: {game_scoreboard_normalized.shape}\")"
   ],
   "outputs": [
    {
     "name": "stdout",
     "output_type": "stream",
     "text": [
      "Game_Rounds_Normalized shape: (14854, 4)\n",
      "Games_Normalized shape: (14854, 36)\n",
      "Matches_Normalized shape: (7818, 12)\n",
      "Game_Scoreboard_Normalized shape: (147744, 28)\n"
     ]
    }
   ],
   "execution_count": 15
  },
  {
   "metadata": {
    "ExecuteTime": {
     "end_time": "2024-06-21T07:59:37.093701Z",
     "start_time": "2024-06-21T07:59:36.257365Z"
    }
   },
   "cell_type": "code",
   "source": [
    " game_scoreboard_filename = 'C:/Users/sahoo/Downloads/archive/Game_Scoreboard_Normalized.csv'\n",
    "game_scoreboard_normalized_df = pd.read_csv(game_scoreboard_filename)\n",
    "agent_averages_df = game_scoreboard_normalized_df.groupby('Agent').mean().reset_index()\n",
    "\n",
    "def calculate_role_scores(df):\n",
    "    role_scores = {\n",
    "        'Agent': [],\n",
    "        'Entry Fragger': [],\n",
    "        'Support': [],\n",
    "        'Sniper': [],\n",
    "        'Lurker': [],\n",
    "        'IGL': [],\n",
    "        'Anchor': []\n",
    "    }\n",
    "    \n",
    "    for _, row in df.iterrows():\n",
    "        scores = {\n",
    "            'Entry Fragger': row['FirstKills'] - row['FirstDeaths'] + row['FKFD_PlusMinus'] + row['ACS'] + row['ADR'],\n",
    "            'Support': row['Assists'] + row['Plants'] + row['Defuses'] + (row['Num_2Ks'] + row['Num_3Ks'] + row['Num_4Ks'] + row['Num_5Ks']) / 4 + row['OnevOne'] + row['OnevTwo'],\n",
    "            'Sniper': row['ACS'] + row['ADR'] + row['HS_Percent'] + row['PlusMinus'],\n",
    "            'Lurker': row['KAST_Percent'] + row['PlusMinus'] + (row['Num_2Ks'] + row['Num_3Ks'] + row['Num_4Ks'] + row['Num_5Ks']) / 4 + row['Econ'],\n",
    "            'IGL': (row['ACS'] + row['ADR'] + row['Kills'] + row['Assists'] + row['PlusMinus'] + row['KAST_Percent'] + row['Plants'] + row['Defuses']) / 8,\n",
    "            'Anchor': row['ADR'] + row['KAST_Percent'] + row['Defuses'] + row['PlusMinus'] + row['OnevOne'] + row['OnevTwo']\n",
    "        }\n",
    "        \n",
    "        role_scores['Agent'].append(row['Agent'])\n",
    "        role_scores['Entry Fragger'].append(scores['Entry Fragger'])\n",
    "        role_scores['Support'].append(scores['Support'])\n",
    "        role_scores['Sniper'].append(scores['Sniper'])\n",
    "        role_scores['Lurker'].append(scores['Lurker'])\n",
    "        role_scores['IGL'].append(scores['IGL'])\n",
    "        role_scores['Anchor'].append(scores['Anchor'])\n",
    "\n",
    "    return pd.DataFrame(role_scores)\n",
    "role_scores_df = calculate_role_scores(agent_averages_df)\n",
    " role_scores_df.to_csv('C:/Users/sahoo/Downloads/archive/Role_Scores_By_Agent.csv', index=False)\n",
    "\n"
   ],
   "outputs": [],
   "execution_count": 16
  },
  {
   "metadata": {
    "ExecuteTime": {
     "end_time": "2024-06-21T07:59:44.562232Z",
     "start_time": "2024-06-21T07:59:44.550483Z"
    }
   },
   "cell_type": "code",
   "source": "print(f\"Role_Scores_By_Agent shape: {role_scores_df.shape}\")",
   "outputs": [
    {
     "name": "stdout",
     "output_type": "stream",
     "text": [
      "Role_Scores_By_Agent shape: (17, 7)\n"
     ]
    }
   ],
   "execution_count": 17
  },
  {
   "metadata": {
    "ExecuteTime": {
     "end_time": "2024-06-21T07:59:49.003525Z",
     "start_time": "2024-06-21T07:59:48.983452Z"
    }
   },
   "cell_type": "code",
   "source": " print(role_scores_df.head())",
   "outputs": [
    {
     "name": "stdout",
     "output_type": "stream",
     "text": [
      "       Agent  Entry Fragger   Support    Sniper    Lurker       IGL    Anchor\n",
      "0      astra       0.998731  0.541417  1.253848  1.296209  0.284736  1.475342\n",
      "1     breach       0.931147  0.649888  1.149647  1.242299  0.287544  1.428197\n",
      "2  brimstone       0.981145  0.570483  1.207209  1.276860  0.285960  1.467763\n",
      "3    chamber       1.104931  0.363867  1.372691  1.354727  0.277809  1.539263\n",
      "4     cypher       0.977040  0.421419  1.228481  1.278566  0.267858  1.449287\n"
     ]
    }
   ],
   "execution_count": 18
  },
  {
   "metadata": {},
   "cell_type": "code",
   "outputs": [],
   "execution_count": null,
   "source": ""
  }
 ],
 "metadata": {
  "colab": {
   "provenance": []
  },
  "kernelspec": {
   "display_name": "Python 3 (ipykernel)",
   "language": "python",
   "name": "python3"
  },
  "language_info": {
   "codemirror_mode": {
    "name": "ipython",
    "version": 3
   },
   "file_extension": ".py",
   "mimetype": "text/x-python",
   "name": "python",
   "nbconvert_exporter": "python",
   "pygments_lexer": "ipython3",
   "version": "3.12.3"
  }
 },
 "nbformat": 4,
 "nbformat_minor": 0
}
